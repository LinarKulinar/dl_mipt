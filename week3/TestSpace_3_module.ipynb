{
 "cells": [
  {
   "cell_type": "markdown",
   "metadata": {},
   "source": [
    "# 3 модуль - линейная алгебра и Numpy"
   ]
  },
  {
   "cell_type": "code",
   "execution_count": 1,
   "metadata": {},
   "outputs": [],
   "source": [
    "import numpy as np\n",
    "\n",
    "def transform(X, a=1):\n",
    "    \"\"\"\n",
    "    param X: np.array[batch_size, n]\n",
    "    \"\"\"\n",
    "    arr1 = X.copy()\n",
    "    arr2 = X.copy()\n",
    "    arr2[:,1::2] = a\n",
    "    print(\"arr2 = \", arr2)\n",
    "    arr2[:,::2] = arr2[:,::2]**3\n",
    "    arr2 = arr2[:,::-1]   \n",
    "    return np.concatenate((arr1,arr2), axis=1)"
   ]
  },
  {
   "cell_type": "code",
   "execution_count": 4,
   "metadata": {},
   "outputs": [
    {
     "name": "stdout",
     "output_type": "stream",
     "text": [
      "arr2 =  [[100   1 300   1 500]\n",
      " [100   1 300   1 500]]\n",
      "[[      100       200       300       400       500 125000000         1\n",
      "   27000000         1   1000000]\n",
      " [      100       200       300       400       500 125000000         1\n",
      "   27000000         1   1000000]]\n"
     ]
    }
   ],
   "source": [
    "x1 = np.array([[100,200,300,400,500],[100,200,300,400,500]])\n",
    "print(transform(x1,1))"
   ]
  },
  {
   "cell_type": "code",
   "execution_count": 5,
   "metadata": {},
   "outputs": [
    {
     "name": "stdout",
     "output_type": "stream",
     "text": [
      "arr2 =  [[100   1 300   1 500]\n",
      " [  1   1   4   1   6]]\n",
      "[[      100       200       300       400       500 125000000         1\n",
      "   27000000         1   1000000]\n",
      " [        1         2         4         5         6       216         1\n",
      "         64         1         1]]\n"
     ]
    }
   ],
   "source": [
    "x2 = np.array([[100,200,300,400,500], [1, 2, 4, 5, 6]])\n",
    "print(transform(x2,1))"
   ]
  },
  {
   "cell_type": "code",
   "execution_count": 6,
   "metadata": {},
   "outputs": [],
   "source": [
    "import numpy as np\n",
    "\n",
    "def encode(a):\n",
    "    b = np.diff(a)\n",
    "    #print(b)\n",
    "    mask = [True,*(b!=0)]\n",
    "    #print(a[mask])\n",
    "    #print(len(mask))\n",
    "    #print(mask)\n",
    "    #print(b)\n",
    "    #print(np.array(a))\n",
    "    #print(\"___________________\")\n",
    "    ind = np.where(b!=0)[0]\n",
    "    #print(\"ind = \",ind)\n",
    "    \n",
    "    ind = ind + 1\n",
    "    #print(\"ind = \",ind)\n",
    "    ind = np.insert(ind, 0,0)\n",
    "    ind = np.append(ind, len(a))\n",
    "    #print(\"ind = \",ind)\n",
    "    return (a[mask], np.diff(ind))"
   ]
  },
  {
   "cell_type": "code",
   "execution_count": 11,
   "metadata": {},
   "outputs": [
    {
     "data": {
      "text/plain": [
       "(array([1, 2, 3, 1, 5, 2, 3]), array([1, 2, 2, 2, 2, 1, 2]))"
      ]
     },
     "execution_count": 11,
     "metadata": {},
     "output_type": "execute_result"
    }
   ],
   "source": [
    "encode(np.array([1, 2, 2, 3, 3, 1, 1, 5, 5, 2, 3, 3]))"
   ]
  }
 ],
 "metadata": {
  "kernelspec": {
   "display_name": "Python 3",
   "language": "python",
   "name": "python3"
  },
  "language_info": {
   "codemirror_mode": {
    "name": "ipython",
    "version": 3
   },
   "file_extension": ".py",
   "mimetype": "text/x-python",
   "name": "python",
   "nbconvert_exporter": "python",
   "pygments_lexer": "ipython3",
   "version": "3.5.2"
  }
 },
 "nbformat": 4,
 "nbformat_minor": 2
}
